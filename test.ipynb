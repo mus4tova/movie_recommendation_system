{
 "cells": [
  {
   "cell_type": "code",
   "execution_count": 1,
   "id": "b366f568-e7ac-4ad5-8666-435610553258",
   "metadata": {},
   "outputs": [],
   "source": [
    "import re\n",
    "import requests"
   ]
  },
  {
   "cell_type": "code",
   "execution_count": 2,
   "id": "e96a8ae3-24b9-4111-9244-c70642612e0b",
   "metadata": {},
   "outputs": [],
   "source": [
    "def extract_imdb_id(imdb_url):\n",
    "    \"\"\"\n",
    "    Function to extract IMDb ID from link\n",
    "    \"\"\"\n",
    "    try:\n",
    "        pattern = r'tt\\d{5,9}'  # \"tt\" + from 5 to 9 numbers (IMDb ID length is usually 9 numbers)\n",
    "        match = re.search(pattern, imdb_url)\n",
    "        return match.group()\n",
    "    except StopIteration:\n",
    "        return \"Unable to select movie id. Load another link\""
   ]
  },
  {
   "cell_type": "code",
   "execution_count": 3,
   "id": "59456529-3f80-45b9-8de0-ff5b5bf617f7",
   "metadata": {},
   "outputs": [
    {
     "name": "stdout",
     "output_type": "stream",
     "text": [
      "{'movie_results': [{'backdrop_path': '/nLFxvLokHe3bQmrmAfljIfax2jQ.jpg', 'id': 185, 'title': 'A Clockwork Orange', 'original_title': 'A Clockwork Orange', 'overview': \"In a near-future Britain, young Alexander DeLarge and his pals get their kicks beating and raping anyone they please. When not destroying the lives of others, Alex swoons to the music of Beethoven. The state, eager to crack down on juvenile crime, gives an incarcerated Alex the option to undergo an invasive procedure that'll rob him of all personal agency. In a time when conscience is a commodity, can Alex change his tune?\", 'poster_path': '/4sHeTAp65WrSSuc05nRBKddhBxO.jpg', 'media_type': 'movie', 'adult': False, 'original_language': 'en', 'genre_ids': [878, 80], 'popularity': 39.763, 'release_date': '1971-12-19', 'video': False, 'vote_average': 8.2, 'vote_count': 12938}], 'person_results': [], 'tv_results': [], 'tv_episode_results': [], 'tv_season_results': []}\n",
      "Тип: Фильм\n",
      "Название: A Clockwork Orange\n",
      "Описание: In a near-future Britain, young Alexander DeLarge and his pals get their kicks beating and raping anyone they please. When not destroying the lives of others, Alex swoons to the music of Beethoven. The state, eager to crack down on juvenile crime, gives an incarcerated Alex the option to undergo an invasive procedure that'll rob him of all personal agency. In a time when conscience is a commodity, can Alex change his tune?\n",
      "Дата выхода: 1971-12-19\n",
      "Рейтинг: 8.2\n",
      "Постер: https://image.tmdb.org/t/p/w500/4sHeTAp65WrSSuc05nRBKddhBxO.jpg\n"
     ]
    }
   ],
   "source": [
    "TMDB_API_KEY = \"4ef7fb9aeb9935e011c8af3c495cdd6c\"\n",
    "\n",
    "def get_movie_from_imdb(imdb_url):\n",
    "    imdb_id = extract_imdb_id(imdb_url)\n",
    "    if not imdb_id:\n",
    "        print(\"error.Invalid IMDb URL\")\n",
    "        \n",
    "    tmdb_url = f\"https://api.themoviedb.org/3/find/{imdb_id}\"\n",
    "    params = {\n",
    "        \"api_key\": TMDB_API_KEY,\n",
    "        \"external_source\": \"imdb_id\"\n",
    "    }\n",
    "    \n",
    "    response = requests.get(tmdb_url, params=params)\n",
    "    if response.status_code != 200:\n",
    "        return {\"error\": f\"Failed to connect to TMDb API. Status code: {response.status_code}\"}\n",
    "    \n",
    "    data = response.json()\n",
    "    print(data)\n",
    "    if not data.get('movie_results') and not data.get('tv_results'):\n",
    "        return {\"error\": \"No movie or TV show found for this IMDb ID\"}\n",
    "    \n",
    "    if data.get('movie_results'):\n",
    "        movie = data['movie_results'][0]\n",
    "        return {\n",
    "            \"type\": \"movie\",\n",
    "            \"title\": movie.get(\"title\"),\n",
    "            \"overview\": movie.get(\"overview\"),\n",
    "            \"release_date\": movie.get(\"release_date\"),\n",
    "            \"vote_average\": movie.get(\"vote_average\"),\n",
    "            \"poster_path\": f\"https://image.tmdb.org/t/p/w500{movie.get('poster_path')}\" if movie.get(\"poster_path\") else None\n",
    "        }\n",
    "    elif data.get('tv_results'):\n",
    "        tv_show = data['tv_results'][0]\n",
    "        return {\n",
    "            \"type\": \"tv_show\",\n",
    "            \"title\": tv_show.get(\"name\"),\n",
    "            \"overview\": tv_show.get(\"overview\"),\n",
    "            \"first_air_date\": tv_show.get(\"first_air_date\"),\n",
    "            \"vote_average\": tv_show.get(\"vote_average\"),\n",
    "            \"poster_path\": f\"https://image.tmdb.org/t/p/w500{tv_show.get('poster_path')}\" if tv_show.get(\"poster_path\") else None\n",
    "        }\n",
    "\n",
    "\n",
    "imdb_url = \"https://www.imdb.com/title/tt0066921/?ref_=nv_sr_srsg_1_tt_7_nm_0_in_0_q_%25D0%25B7%25D0%25B0%25D0%25B2%25D0%25BE%25D0%25B4%25D0%25BD%25D0%25BE%25D0%25\"\n",
    "movie_data = get_movie_from_imdb(imdb_url)\n",
    "\n",
    "if \"error\" in movie_data:\n",
    "    print(\"Ошибка:\", movie_data[\"error\"])\n",
    "else:\n",
    "    print(\"Тип:\", \"Фильм\" if movie_data[\"type\"] == \"movie\" else \"Series\")\n",
    "    print(\"Название:\", movie_data[\"title\"])\n",
    "    print(\"Описание:\", movie_data[\"overview\"])\n",
    "    print(\"Дата выхода:\", movie_data.get(\"release_date\") or movie_data.get(\"first_air_date\"))\n",
    "    print(\"Рейтинг:\", movie_data[\"vote_average\"])\n",
    "    print(\"Постер:\", movie_data[\"poster_path\"])"
   ]
  },
  {
   "cell_type": "code",
   "execution_count": null,
   "id": "0a545b33-6e90-4e60-bc29-9e247ff286b6",
   "metadata": {},
   "outputs": [],
   "source": []
  }
 ],
 "metadata": {
  "kernelspec": {
   "display_name": "Python 3 (ipykernel)",
   "language": "python",
   "name": "python3"
  },
  "language_info": {
   "codemirror_mode": {
    "name": "ipython",
    "version": 3
   },
   "file_extension": ".py",
   "mimetype": "text/x-python",
   "name": "python",
   "nbconvert_exporter": "python",
   "pygments_lexer": "ipython3",
   "version": "3.10.0"
  }
 },
 "nbformat": 4,
 "nbformat_minor": 5
}
